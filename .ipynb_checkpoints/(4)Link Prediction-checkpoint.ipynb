{
 "cells": [
  {
   "cell_type": "markdown",
   "metadata": {},
   "source": [
    "## Link Prediction with Common Neighbors"
   ]
  },
  {
   "cell_type": "code",
   "execution_count": 1,
   "metadata": {},
   "outputs": [],
   "source": [
    "import networkx as nx\n",
    "import matplotlib.pyplot as plt"
   ]
  },
  {
   "cell_type": "code",
   "execution_count": 2,
   "metadata": {},
   "outputs": [
    {
     "name": "stderr",
     "output_type": "stream",
     "text": [
      "D:\\Anaconda3\\lib\\site-packages\\networkx\\drawing\\nx_pylab.py:611: MatplotlibDeprecationWarning: isinstance(..., numbers.Number)\n",
      "  if cb.is_numlike(alpha):\n"
     ]
    },
    {
     "data": {
      "image/png": "[encoded data removed]",
      "text/plain": [
       "<Figure size 432x288 with 1 Axes>"
      ]
     },
     "metadata": {},
     "output_type": "display_data"
    }
   ],
   "source": [
    "# Create an empty graph with no nodes and no edges using the Graph() function\n",
    "G = nx.Graph()\n",
    "\n",
    "# Add multiple nodes to the graph using add_node_from\n",
    "G.add_nodes_from(['A', 'B', 'C', 'D', 'E', 'F', 'G', 'H'])\n",
    "\n",
    "# Add multiple nodes to the graph using add_node_from\n",
    "G.add_edges_from([('A', 'B'), ('A', 'C'), ('B', 'D'), ('D', 'F'), ('D', 'G'), \n",
    "                  ('E', 'F'), ('E', 'G'), ('E', 'H'), ('F', 'G'), ('G', 'H')])\n",
    "\n",
    "# Examine the nodes and edges\n",
    "nx.draw(G, with_labels = True)\n",
    "plt.show()"
   ]
  },
  {
   "cell_type": "code",
   "execution_count": 3,
   "metadata": {},
   "outputs": [
    {
     "data": {
      "text/plain": [
       "['E', 'G']"
      ]
     },
     "execution_count": 3,
     "metadata": {},
     "output_type": "execute_result"
    }
   ],
   "source": [
    "# Calculate common neighbors between node F and node H\n",
    "list(nx.common_neighbors(G,'F','H'))"
   ]
  },
  {
   "cell_type": "code",
   "execution_count": 4,
   "metadata": {},
   "outputs": [
    {
     "data": {
      "text/plain": [
       "[('A', 'D', 1),\n",
       " ('A', 'E', 0),\n",
       " ('A', 'G', 0),\n",
       " ('A', 'H', 0),\n",
       " ('B', 'C', 1),\n",
       " ('B', 'H', 0),\n",
       " ('D', 'C', 0),\n",
       " ('D', 'H', 1),\n",
       " ('E', 'B', 0),\n",
       " ('E', 'C', 0),\n",
       " ('E', 'D', 2),\n",
       " ('F', 'A', 0),\n",
       " ('F', 'B', 1),\n",
       " ('F', 'C', 0),\n",
       " ('F', 'H', 2),\n",
       " ('G', 'B', 1),\n",
       " ('G', 'C', 0),\n",
       " ('H', 'C', 0)]"
      ]
     },
     "execution_count": 4,
     "metadata": {},
     "output_type": "execute_result"
    }
   ],
   "source": [
    "# Calculate common neighbors for all node pairs that are not already connected\n",
    "common_neighbors = [(n[0], n[1], \n",
    "                     len(list(nx.common_neighbors(G,n[0],n[1])))) for n in nx.non_edges(G)]\n",
    "sorted(common_neighbors)"
   ]
  },
  {
   "cell_type": "markdown",
   "metadata": {},
   "source": [
    "## Link Prediction with Jaccard Coefficient "
   ]
  },
  {
   "cell_type": "code",
   "execution_count": 5,
   "metadata": {},
   "outputs": [
    {
     "data": {
      "text/plain": [
       "[('A', 'D', 0.25),\n",
       " ('A', 'E', 0.0),\n",
       " ('A', 'G', 0.0),\n",
       " ('A', 'H', 0.0),\n",
       " ('B', 'C', 0.5),\n",
       " ('B', 'H', 0.0),\n",
       " ('D', 'C', 0.0),\n",
       " ('D', 'H', 0.25),\n",
       " ('E', 'B', 0.0),\n",
       " ('E', 'C', 0.0),\n",
       " ('E', 'D', 0.5),\n",
       " ('F', 'A', 0.0),\n",
       " ('F', 'B', 0.25),\n",
       " ('F', 'C', 0.0),\n",
       " ('F', 'H', 0.6666666666666666),\n",
       " ('G', 'B', 0.2),\n",
       " ('G', 'C', 0.0),\n",
       " ('H', 'C', 0.0)]"
      ]
     },
     "execution_count": 5,
     "metadata": {},
     "output_type": "execute_result"
    }
   ],
   "source": [
    "# Calculate jaccard coefficient for all node pairs that are not already connected\n",
    "jaccard = list(nx.jaccard_coefficient(G))\n",
    "sorted(jaccard)"
   ]
  },
  {
   "cell_type": "markdown",
   "metadata": {},
   "source": [
    "## Link Prediction with Preferential Attachment"
   ]
  },
  {
   "cell_type": "code",
   "execution_count": 6,
   "metadata": {},
   "outputs": [
    {
     "data": {
      "text/plain": [
       "[('A', 'D', 6),\n",
       " ('A', 'E', 6),\n",
       " ('A', 'G', 8),\n",
       " ('A', 'H', 4),\n",
       " ('B', 'C', 2),\n",
       " ('B', 'H', 4),\n",
       " ('D', 'C', 3),\n",
       " ('D', 'H', 6),\n",
       " ('E', 'B', 6),\n",
       " ('E', 'C', 3),\n",
       " ('E', 'D', 9),\n",
       " ('F', 'A', 6),\n",
       " ('F', 'B', 6),\n",
       " ('F', 'C', 3),\n",
       " ('F', 'H', 6),\n",
       " ('G', 'B', 8),\n",
       " ('G', 'C', 4),\n",
       " ('H', 'C', 2)]"
      ]
     },
     "execution_count": 6,
     "metadata": {},
     "output_type": "execute_result"
    }
   ],
   "source": [
    "# Calculate preferential attachment for all node pairs that are not already connected\n",
    "pref = list(nx.preferential_attachment(G))\n",
    "sorted(pref)"
   ]
  }
 ],
 "metadata": {
  "kernelspec": {
   "display_name": "Python 3",
   "language": "python",
   "name": "python3"
  },
  "language_info": {
   "codemirror_mode": {
    "name": "ipython",
    "version": 3
   },
   "file_extension": ".py",
   "mimetype": "text/x-python",
   "name": "python",
   "nbconvert_exporter": "python",
   "pygments_lexer": "ipython3",
   "version": "3.6.6"
  }
 },
 "nbformat": 4,
 "nbformat_minor": 2
}
